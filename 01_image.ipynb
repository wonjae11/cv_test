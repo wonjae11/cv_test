{
 "cells": [
  {
   "cell_type": "markdown",
   "metadata": {},
   "source": [
    "## 01. 이미지 입출력"
   ]
  },
  {
   "cell_type": "markdown",
   "metadata": {},
   "source": [
    "### 1-1 이미지 불러오기"
   ]
  },
  {
   "cell_type": "code",
   "execution_count": 3,
   "metadata": {},
   "outputs": [],
   "source": [
    "import cv2\n",
    "cat_path = \"images/cat.jpg\"\n",
    "diamond_png_path = \"images/diamond.png\""
   ]
  },
  {
   "cell_type": "code",
   "execution_count": 4,
   "metadata": {},
   "outputs": [
    {
     "name": "stdout",
     "output_type": "stream",
     "text": [
      "[[[ 17  10  15]\n",
      "  [ 21  14  19]\n",
      "  [ 23  16  21]\n",
      "  ...\n",
      "  [ 17  19  50]\n",
      "  [ 36  38  69]\n",
      "  [ 11  13  44]]\n",
      "\n",
      " [[ 37  30  35]\n",
      "  [ 38  31  36]\n",
      "  [ 33  26  31]\n",
      "  ...\n",
      "  [ 15  17  48]\n",
      "  [ 31  33  64]\n",
      "  [  9  11  42]]\n",
      "\n",
      " [[ 23  16  21]\n",
      "  [ 24  17  22]\n",
      "  [ 19  12  17]\n",
      "  ...\n",
      "  [ 18  20  51]\n",
      "  [ 30  32  63]\n",
      "  [ 13  15  46]]\n",
      "\n",
      " ...\n",
      "\n",
      " [[164 207 210]\n",
      "  [152 195 198]\n",
      "  [158 201 204]\n",
      "  ...\n",
      "  [185 201 217]\n",
      "  [178 194 210]\n",
      "  [167 183 199]]\n",
      "\n",
      " [[159 202 205]\n",
      "  [139 182 185]\n",
      "  [149 192 195]\n",
      "  ...\n",
      "  [172 188 204]\n",
      "  [178 194 210]\n",
      "  [188 204 220]]\n",
      "\n",
      " [[152 195 198]\n",
      "  [127 170 173]\n",
      "  [140 183 186]\n",
      "  ...\n",
      "  [169 185 201]\n",
      "  [179 195 211]\n",
      "  [196 212 228]]]\n"
     ]
    }
   ],
   "source": [
    "img = cv2.imread(\"images/cat.jpg\")\n",
    "print(img)"
   ]
  },
  {
   "cell_type": "code",
   "execution_count": 5,
   "metadata": {},
   "outputs": [
    {
     "name": "stdout",
     "output_type": "stream",
     "text": [
      "113\n"
     ]
    }
   ],
   "source": [
    "cv2.imshow(\"Image\",img)\n",
    "key = cv2.waitKey(5000) # 무한대기, 키 입력 없으면 -1 반환\n",
    "print(key)\n",
    "cv2.destroyAllWindows()"
   ]
  },
  {
   "cell_type": "markdown",
   "metadata": {},
   "source": [
    "### 1-2. 이미지 불러오기 옵션\n",
    "- 'cv2.IMREAD_COLOR' : 이미지를 컬러로, 기본 옵션, 투명배경 무시\n",
    "- 'cv2.IMREAD_GRAYSCALE' : 이미지를 흑백으로\n",
    "- 'cv.IMREAD_UNCHANGED' : 이미지 컬러, 투명배경 인식\n",
    "    - 이미지를 불러올 때 alpha값을 같이 불러옴"
   ]
  },
  {
   "cell_type": "code",
   "execution_count": 6,
   "metadata": {},
   "outputs": [
    {
     "ename": "NameError",
     "evalue": "name 'jjangu_png_path' is not defined",
     "output_type": "error",
     "traceback": [
      "\u001b[1;31m---------------------------------------------------------------------------\u001b[0m",
      "\u001b[1;31mNameError\u001b[0m                                 Traceback (most recent call last)",
      "Cell \u001b[1;32mIn[6], line 1\u001b[0m\n\u001b[1;32m----> 1\u001b[0m img_default \u001b[38;5;241m=\u001b[39m cv2\u001b[38;5;241m.\u001b[39mimread(\u001b[43mjjangu_png_path\u001b[49m, cv2\u001b[38;5;241m.\u001b[39mIMREAD_COLOR)\n\u001b[0;32m      2\u001b[0m img_gray \u001b[38;5;241m=\u001b[39m cv2\u001b[38;5;241m.\u001b[39mimread(jjangu_png_path, cv2\u001b[38;5;241m.\u001b[39mIMREAD_GRAYSCALE)\n\u001b[0;32m      3\u001b[0m img_unchanged \u001b[38;5;241m=\u001b[39m cv2\u001b[38;5;241m.\u001b[39mimread(jjangu_png_path, cv2\u001b[38;5;241m.\u001b[39mIMREAD_UNCHANGED)\n",
      "\u001b[1;31mNameError\u001b[0m: name 'jjangu_png_path' is not defined"
     ]
    }
   ],
   "source": [
    "img_default = cv2.imread(cat_path, cv2.IMREAD_COLOR)\n",
    "img_gray = cv2.imread(cat_path, cv2.IMREAD_GRAYSCALE)\n",
    "img_unchanged = cv2.imread(cat_path, cv2.IMREAD_UNCHANGED)\n",
    "\n",
    "cv2.imshow(\"Image default\", img_default)\n",
    "cv2.imshow(\"Imgae gray\", img_gray)\n",
    "cv2.imshow(\"Image unchanged\", img_unchanged)\n",
    "\n",
    "cv2.waitKey(0)\n",
    "cv2.destroyAllWindows()"
   ]
  },
  {
   "cell_type": "markdown",
   "metadata": {},
   "source": [
    "### 1-3. 이미지 shape\n",
    "-"
   ]
  },
  {
   "cell_type": "code",
   "execution_count": null,
   "metadata": {},
   "outputs": [
    {
     "name": "stdout",
     "output_type": "stream",
     "text": [
      "1110 1280 4\n"
     ]
    },
    {
     "data": {
      "text/plain": [
       "(1110, 1280)"
      ]
     },
     "execution_count": 25,
     "metadata": {},
     "output_type": "execute_result"
    }
   ],
   "source": [
    "img_default = cv2.imread(diamond_png_path, cv2.IMREAD_COLOR)\n",
    "img_gray = cv2.imread(diamond_png_path, cv2.IMREAD_GRAYSCALE)\n",
    "img_unchanged = cv2.imread(diamond_png_path, cv2.IMREAD_UNCHANGED)\n",
    "\n",
    "heigth, width, channel = img_unchanged.shape\n",
    "print(heigth, width, channel)\n",
    "\n",
    "img_gray.shape"
   ]
  },
  {
   "cell_type": "code",
   "execution_count": 7,
   "metadata": {},
   "outputs": [],
   "source": [
    "img = cv2.imread(cat_path)\n",
    "cv2.imshow(\"img\",img)\n",
    "key = cv2.waitKey(0)\n",
    "if key == ord(\"q\"):\n",
    "    cv2.destroyAllWindows()"
   ]
  },
  {
   "cell_type": "markdown",
   "metadata": {},
   "source": [
    "### 1-4. 이미지 쓰기\n",
    "    ● 불러온 이미지를 파일로 생성성"
   ]
  },
  {
   "cell_type": "code",
   "execution_count": 10,
   "metadata": {},
   "outputs": [
    {
     "data": {
      "text/plain": [
       "True"
      ]
     },
     "execution_count": 10,
     "metadata": {},
     "output_type": "execute_result"
    }
   ],
   "source": [
    "img = cv2.imread(cat_path, cv2.IMREAD_GRAYSCALE)\n",
    "\n",
    "cv2.imwrite(\"output/new_cat.jpg\", img)"
   ]
  },
  {
   "cell_type": "code",
   "execution_count": null,
   "metadata": {},
   "outputs": [],
   "source": []
  }
 ],
 "metadata": {
  "kernelspec": {
   "display_name": "my_cv",
   "language": "python",
   "name": "python3"
  },
  "language_info": {
   "codemirror_mode": {
    "name": "ipython",
    "version": 3
   },
   "file_extension": ".py",
   "mimetype": "text/x-python",
   "name": "python",
   "nbconvert_exporter": "python",
   "pygments_lexer": "ipython3",
   "version": "3.13.1"
  }
 },
 "nbformat": 4,
 "nbformat_minor": 2
}
