{
 "cells": [
  {
   "cell_type": "markdown",
   "metadata": {},
   "source": [
    "## 03. 도형 그리기"
   ]
  },
  {
   "cell_type": "code",
   "execution_count": 2,
   "metadata": {},
   "outputs": [],
   "source": [
    "import cv2\n",
    "import numpy as np"
   ]
  },
  {
   "cell_type": "markdown",
   "metadata": {},
   "source": [
    "### 3-1. 빈 화면 만들기"
   ]
  },
  {
   "cell_type": "code",
   "execution_count": 5,
   "metadata": {},
   "outputs": [],
   "source": [
    "img = np.zeros((460, 640, 3), dtype=np.uint8)\n",
    "# int : -128 ~ 127 vs uint : 0 ~ 255(양수 값만 가짐짐)\n",
    "\n",
    "# img[:] = (255,255,255)\n",
    "\n",
    "cv2.imshow(\"blank\", img)\n",
    "cv2.waitKey(0)\n",
    "cv2.destroyAllWindows()"
   ]
  },
  {
   "cell_type": "markdown",
   "metadata": {},
   "source": [
    "### 3-2. 일부 영역 색칠"
   ]
  },
  {
   "cell_type": "code",
   "execution_count": 9,
   "metadata": {},
   "outputs": [],
   "source": [
    "img = np.zeros((460, 640, 3), dtype=np.uint8)\n",
    "img[100:200, 300:400] = (87,87,234)\n",
    "cv2.imshow(\"blank\", img)\n",
    "cv2.waitKey(0)\n",
    "cv2.destroyAllWindows()"
   ]
  },
  {
   "cell_type": "markdown",
   "metadata": {},
   "source": [
    "### 3-3. 선 그리기"
   ]
  },
  {
   "cell_type": "code",
   "execution_count": 12,
   "metadata": {},
   "outputs": [],
   "source": [
    "img = np.zeros((460, 640, 3), dtype=np.uint8)\n",
    "\n",
    "COLOR = (255,255,255)\n",
    "THICKNESS = 5\n",
    "\n",
    "cv2.line(img, (50,100), (400,50), COLOR, THICKNESS, cv2.LINE_4)\n",
    "cv2.line(img, (50,200), (400,150), COLOR, THICKNESS, cv2.LINE_8)\n",
    "cv2.line(img, (50,300), (400,250), COLOR, THICKNESS, cv2.LINE_AA)\n",
    "cv2.imshow(\"Line\", img)\n",
    "cv2.waitKey(0)\n",
    "cv2.destroyAllWindows()"
   ]
  },
  {
   "cell_type": "markdown",
   "metadata": {},
   "source": [
    "### 3-4. 원 그리기"
   ]
  },
  {
   "cell_type": "code",
   "execution_count": 18,
   "metadata": {},
   "outputs": [],
   "source": [
    "img = np.zeros((460, 640, 3), dtype=np.uint8)\n",
    "\n",
    "RADIUS = 50\n",
    "COLOR = (0, 255, 0)\n",
    "THICKNESS = 10\n",
    "\n",
    "# 속이 비어있는 원\n",
    "cv2.circle(img, (200, 300), RADIUS, COLOR, THICKNESS, cv2.LINE_AA)\n",
    "\n",
    "# 속이 찬 원\n",
    "cv2.circle(img, (400, 300), RADIUS, COLOR, cv2.FILLED, cv2.LINE_AA)\n",
    "\n",
    "cv2.imshow(\"circle\", img)\n",
    "cv2.waitKey(0)\n",
    "cv2.destroyAllWindows()"
   ]
  },
  {
   "cell_type": "code",
   "execution_count": 15,
   "metadata": {},
   "outputs": [
    {
     "data": {
      "text/plain": [
       "16"
      ]
     },
     "execution_count": 15,
     "metadata": {},
     "output_type": "execute_result"
    }
   ],
   "source": [
    "cv2.LINE_AA"
   ]
  }
 ],
 "metadata": {
  "kernelspec": {
   "display_name": "my_cv",
   "language": "python",
   "name": "python3"
  },
  "language_info": {
   "codemirror_mode": {
    "name": "ipython",
    "version": 3
   },
   "file_extension": ".py",
   "mimetype": "text/x-python",
   "name": "python",
   "nbconvert_exporter": "python",
   "pygments_lexer": "ipython3",
   "version": "3.13.1"
  }
 },
 "nbformat": 4,
 "nbformat_minor": 2
}
