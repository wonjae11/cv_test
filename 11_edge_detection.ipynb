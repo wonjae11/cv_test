{
 "cells": [
  {
   "cell_type": "markdown",
   "metadata": {},
   "source": [
    "## 11. 경계선 검출(Canny Edge Detection)\n",
    "- 약한 임계값과 강한 임계값을 사용해 경계선을 검출\n",
    "- 그레이스케일 적용 -> 블러로 노이즈 제거 -> canny 적용"
   ]
  },
  {
   "cell_type": "code",
   "execution_count": 1,
   "metadata": {},
   "outputs": [],
   "source": [
    "import cv2\n",
    "\n",
    "MOUNTAIN = \"images/mountain.jpg\""
   ]
  },
  {
   "cell_type": "markdown",
   "metadata": {},
   "source": [
    "### 11-1. 기본 구현"
   ]
  },
  {
   "cell_type": "code",
   "execution_count": 3,
   "metadata": {},
   "outputs": [],
   "source": [
    "img = cv2.imread(MOUNTAIN, cv2.IMREAD_GRAYSCALE)\n",
    "name = \"Canny\"\n",
    "cv2.namedWindow(name)\n",
    "\n",
    "cv2.createTrackbar(\"threshold1\", name, 50, 255, lambda x:x)\n",
    "cv2.createTrackbar(\"threshold2\", name, 150, 255, lambda x:x)\n",
    "\n",
    "while True:\n",
    "    threshold1 = cv2.getTrackbarPos(\"threshold1\",name)\n",
    "    threshold2 = cv2.getTrackbarPos(\"threshold2\",name)\n",
    "    canny = cv2.Canny(img, threshold1, threshold2)\n",
    "    cv2.imshow(name, canny)\n",
    "\n",
    "    if cv2.waitKey(1) == ord(\"q\"):\n",
    "        break\n",
    "\n",
    "cv2.destroyAllWindows()"
   ]
  },
  {
   "cell_type": "markdown",
   "metadata": {},
   "source": [
    "### 실습2. 캠 화면에 검출"
   ]
  },
  {
   "cell_type": "code",
   "execution_count": 13,
   "metadata": {},
   "outputs": [
    {
     "name": "stdout",
     "output_type": "stream",
     "text": [
      "사용자 입력에 의해 종료되었어요.\n"
     ]
    }
   ],
   "source": [
    "cap = cv2.VideoCapture(0)\n",
    "name = \"Canny\"\n",
    "cv2.namedWindow(name)\n",
    "cv2.createTrackbar(\"threshold1\", name, 50, 255, lambda x:x)\n",
    "cv2.createTrackbar(\"threshold2\", name, 150, 255, lambda x:x)\n",
    "\n",
    "if not cap.isOpened():\n",
    "    print(\"카메라가 없어요\")\n",
    "    exit()\n",
    "\n",
    "while True:\n",
    "    ret, frame = cap.read()\n",
    "    threshold1 = cv2.getTrackbarPos(\"threshold1\",name)\n",
    "    threshold2 = cv2.getTrackbarPos(\"threshold2\",name)\n",
    "    canny = cv2.Canny(frame, threshold1, threshold2)\n",
    "\n",
    "    if not ret:\n",
    "        print(\"불러올 이미지가 없어요\")\n",
    "        break\n",
    "\n",
    "    cv2.imshow(name, canny)\n",
    "\n",
    "    if cv2.waitKey(1) == ord(\"q\"):\n",
    "        print(\"사용자 입력에 의해 종료되었어요.\")\n",
    "        break\n",
    "\n",
    "cap.release()\n",
    "cv2.destroyAllWindows()"
   ]
  },
  {
   "cell_type": "code",
   "execution_count": 14,
   "metadata": {},
   "outputs": [],
   "source": [
    "img = cv2.imread(\"images/winter.jpg\", cv2.IMREAD_GRAYSCALE)\n",
    "blurred = cv2.GaussianBlur(img, (0,0), 1)\n",
    "\n",
    "canny_img = cv2.Canny(img, 50, 150)\n",
    "canny_blurred = cv2.Canny(blurred, 50, 150)\n",
    "\n",
    "cv2.imshow(\"img\", canny_img)\n",
    "cv2.imshow(\"blurred\", canny_blurred)\n",
    "\n",
    "cv2.waitKey(0)\n",
    "cv2.destroyAllWindows()"
   ]
  }
 ],
 "metadata": {
  "kernelspec": {
   "display_name": "my_cv",
   "language": "python",
   "name": "python3"
  },
  "language_info": {
   "codemirror_mode": {
    "name": "ipython",
    "version": 3
   },
   "file_extension": ".py",
   "mimetype": "text/x-python",
   "name": "python",
   "nbconvert_exporter": "python",
   "pygments_lexer": "ipython3",
   "version": "3.13.1"
  }
 },
 "nbformat": 4,
 "nbformat_minor": 2
}
