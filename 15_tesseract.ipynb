{
 "cells": [
  {
   "cell_type": "markdown",
   "metadata": {},
   "source": [
    "## Tesseract"
   ]
  },
  {
   "cell_type": "code",
   "execution_count": 3,
   "metadata": {},
   "outputs": [
    {
     "name": "stdout",
     "output_type": "stream",
     "text": [
      "Requirement already satisfied: pytesseract in c:\\users\\admin\\documents\\opencvprac\\my_cv\\lib\\site-packages (0.3.13)\n",
      "Requirement already satisfied: packaging>=21.3 in c:\\users\\admin\\documents\\opencvprac\\my_cv\\lib\\site-packages (from pytesseract) (24.2)\n",
      "Requirement already satisfied: Pillow>=8.0.0 in c:\\users\\admin\\documents\\opencvprac\\my_cv\\lib\\site-packages (from pytesseract) (11.1.0)\n",
      "Note: you may need to restart the kernel to use updated packages.\n"
     ]
    }
   ],
   "source": [
    "%pip install pytesseract"
   ]
  },
  {
   "cell_type": "code",
   "execution_count": 23,
   "metadata": {},
   "outputs": [
    {
     "name": "stdout",
     "output_type": "stream",
     "text": [
      "1. Almonds\n",
      "\n",
      "There are a lot of health benefits associated with almonds.\n",
      "Almonds are very high in vitamin E and protein as well as\n",
      "other nutrients such as magnesium and phosphorus. Almonds\n",
      "contain anti-cancer properties as well. Whether almonds are\n",
      "best raw or pasteurized is still a source of heated debate.\n",
      "\n"
     ]
    }
   ],
   "source": [
    "import cv2\n",
    "from pytesseract import pytesseract as pyt\n",
    "import numpy as np\n",
    "\n",
    "img = cv2.imread(\"images/eng_ocr.png\", cv2.IMREAD_GRAYSCALE)\n",
    "pyt.tesseract_cmd = r\"C:/Program Files/Tesseract-OCR/tesseract.exe\"\n",
    "text = pyt.image_to_string(img, lang=\"eng\")\n",
    "print(text)"
   ]
  },
  {
   "cell_type": "code",
   "execution_count": 17,
   "metadata": {},
   "outputs": [
    {
     "name": "stdout",
     "output_type": "stream",
     "text": [
      "Detected Text: \n"
     ]
    }
   ],
   "source": [
    "import cv2\n",
    "from pytesseract import pytesseract as pyt\n",
    "\n",
    "img = cv2.imread(\"images/stop.png\", cv2.IMREAD_GRAYSCALE)\n",
    "pyt.tesseract_cmd = r\"C:/Program Files/Tesseract-OCR/tesseract.exe\"\n",
    "ret, binary = cv2.threshold(img, -1, 255, cv2.THRESH_BINARY | cv2.THRESH_OTSU)\n",
    "\n",
    "\n",
    "# text = pyt.image_to_string(img, lang=\"kor + eng\")\n"
   ]
  },
  {
   "cell_type": "code",
   "execution_count": 39,
   "metadata": {},
   "outputs": [
    {
     "name": "stdout",
     "output_type": "stream",
     "text": [
      "정지\n",
      "STOP\n",
      "\n"
     ]
    }
   ],
   "source": [
    "img = cv2.imread(\"images/stop.png\")\n",
    "pyt.tesseract_cmd = r\"C:/Program Files/Tesseract-OCR/tesseract.exe\"\n",
    "copied = img[38:193, 38:197]\n",
    "gray = cv2.cvtColor(copied, cv2.COLOR_BGR2BGRA)\n",
    "\n",
    "text_1 = pyt.image_to_string(gray, lang=\"kor+eng\")\n",
    "\n",
    "print(text_1)\n",
    "\n",
    "cv2.imshow(\"stop\", gray)\n",
    "cv2.waitKey(0)\n",
    "cv2.destroyAllWindows()"
   ]
  },
  {
   "cell_type": "code",
   "execution_count": 52,
   "metadata": {},
   "outputs": [
    {
     "name": "stdout",
     "output_type": "stream",
     "text": [
      "Detected Text:\n",
      "정지\n",
      "STOP\n",
      "\n",
      "Detected Text:\n",
      "정지\n",
      "STOP\n",
      "\n",
      "Detected Text:\n",
      "정지\n",
      "STOP\n",
      "\n",
      "Detected Text:\n",
      "정지\n",
      "STOP\n",
      "\n"
     ]
    }
   ],
   "source": [
    "import cv2\n",
    "import numpy as np\n",
    "from pytesseract import pytesseract as pyt\n",
    "\n",
    "pyt.tesseract_cmd = r\"C:/Program Files/Tesseract-OCR/tesseract.exe\"\n",
    "\n",
    "img = cv2.imread(\"images/stop.png\")\n",
    "if img is None:\n",
    "    print(\"이미지를 로드할 수 없습니다. 경로를 확인하세요.\")\n",
    "    exit()\n",
    "\n",
    "point_list = []\n",
    "\n",
    "def perform_ocr(selected_region):\n",
    "    gray = cv2.cvtColor(selected_region, cv2.COLOR_BGR2GRAY)\n",
    "    _, binary = cv2.threshold(gray, -1, 255, cv2.THRESH_BINARY | cv2.THRESH_OTSU)\n",
    "    text = pyt.image_to_string(binary, lang=\"kor+eng\")\n",
    "    print(\"Detected Text:\")\n",
    "    print(text)\n",
    "\n",
    "    cv2.imshow(\"Selected Region\", binary)\n",
    "\n",
    "drawing = False\n",
    "def on_mouse(event, x, y, flags, _):\n",
    "    global point_list\n",
    "\n",
    "    if event == cv2.EVENT_LBUTTONDOWN:\n",
    "        if len(point_list) < 4:\n",
    "            point_list.append((x, y))\n",
    "\n",
    "        if len(point_list) == 4:\n",
    "            rect = np.array(point_list, dtype=np.float32)\n",
    "            width, height = 300, 300\n",
    "            target = np.array([[0, 0], [width, 0], [width, height], [0, height]], dtype=np.float32)\n",
    "\n",
    "            mat = cv2.getPerspectiveTransform(rect, target)\n",
    "            selected_region = cv2.warpPerspective(img, mat, (width, height))\n",
    "\n",
    "            perform_ocr(selected_region)\n",
    "\n",
    "cv2.namedWindow(\"Select Region\")\n",
    "cv2.setMouseCallback(\"Select Region\", on_mouse)\n",
    "\n",
    "while True:\n",
    "    copied = img.copy()\n",
    "    for point in point_list:\n",
    "        cv2.circle(copied, point, 5, (0, 0, 255), -1)\n",
    "\n",
    "    if len(point_list) > 1:\n",
    "        for i in range(len(point_list) - 1):\n",
    "            cv2.line(copied, point_list[i], point_list[i + 1], (0, 255, 0), 2)\n",
    "        if len(point_list) == 4:\n",
    "            cv2.line(copied, point_list[3], point_list[0], (0, 255, 0), 2)\n",
    "\n",
    "    cv2.imshow(\"Select Region\", copied)\n",
    "\n",
    "    if cv2.waitKey(1) == ord(\"q\"):\n",
    "        break\n",
    "\n",
    "cv2.destroyAllWindows()\n"
   ]
  }
 ],
 "metadata": {
  "kernelspec": {
   "display_name": "my_cv",
   "language": "python",
   "name": "python3"
  },
  "language_info": {
   "codemirror_mode": {
    "name": "ipython",
    "version": 3
   },
   "file_extension": ".py",
   "mimetype": "text/x-python",
   "name": "python",
   "nbconvert_exporter": "python",
   "pygments_lexer": "ipython3",
   "version": "3.13.1"
  }
 },
 "nbformat": 4,
 "nbformat_minor": 2
}
